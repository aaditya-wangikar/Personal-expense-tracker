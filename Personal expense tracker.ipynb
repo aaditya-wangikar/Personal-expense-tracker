{
 "cells": [
  {
   "cell_type": "markdown",
   "id": "1aa3561f-6ba8-400e-9297-e2ed97db65a8",
   "metadata": {},
   "source": [
    "# Personal expense tracker"
   ]
  },
  {
   "cell_type": "markdown",
   "id": "3e9911bc-401b-4a42-a1c1-3ff28ab8f702",
   "metadata": {},
   "source": [
    "## Problem statement:\n",
    "In today’s fast-paced world, individuals need to track and manage their expenses\n",
    "effectively. Your task is to build a personal expense tracker that allows users to log\n",
    "daily expenses, categorize them, and track spending against a monthly budget. The\n",
    "tracker should also be able to save and load expenses from a file for future\n",
    "reference."
   ]
  },
  {
   "cell_type": "markdown",
   "id": "be13bae4-abb2-4b8f-8ebf-7f81767dff97",
   "metadata": {},
   "source": [
    "## Objectives:\r\n",
    "1. Design and implement a personal expense tracker that enables users to\r\n",
    "manage their expenses\r\n",
    "2. Allow users to categorize expenses and set monthly budgets\r\n",
    "3. Implement file-handling functionality to save and load expense data\r\n",
    "4. Create an interactive, menu-driven interface for ease of use"
   ]
  },
  {
   "cell_type": "code",
   "execution_count": null,
   "id": "642b50e8-f208-416b-bf06-75d7fb5bfe95",
   "metadata": {},
   "outputs": [],
   "source": [
    "def add_choice():\n",
    "    \"\"\"\n",
    "    Function to display a task menu\n",
    "    \"\"\"\n",
    "    task = int(input(\"\"\"Enter the task among the following:\n",
    "    1. Add expense\n",
    "    2. View expenses\n",
    "    3. Track budget\n",
    "    4. Save expenses\n",
    "    5. Exit\n",
    "    \"\"\"))\n",
    "    return task"
   ]
  },
  {
   "cell_type": "markdown",
   "id": "93f10dbb-c84a-499a-b77b-50d59301a89d",
   "metadata": {},
   "source": [
    "##### 1. Function to add expenses\n",
    "Function prompts the user for following expense details.\n",
    "- Date of the expense in the format YYYY-MM-DD\n",
    "- Category of the expense, such as Food, Travel, etc.\n",
    "- Amount spent\n",
    "- Description of the expense.\n",
    "\n",
    "The expense details are stored in a list as a dictionary, where each dictionary includes the\n",
    "date, category, amount, and description as key-value pairs"
   ]
  },
  {
   "cell_type": "code",
   "execution_count": null,
   "id": "cb1a6f1e-d707-4cde-8fcd-b9b0b281b47f",
   "metadata": {},
   "outputs": [],
   "source": [
    "import csv\n",
    "from datetime import datetime\n",
    "\n",
    "def add_expense(expense):    \n",
    "    print(\"Adding expense\")\n",
    "    # Take input for the date of expense\n",
    "    while True:\n",
    "        date_string = input(\"Enter the date of expense in YYYY-MM-DD format: \")\n",
    "        try:\n",
    "            date_obj = datetime.strptime(date_string,\"%Y %m %d\")\n",
    "            print(\"Date entered:\", date_obj.date())\n",
    "            break\n",
    "        except ValueError:\n",
    "            print(\"Invalid date format! Please enter in YYYY-MM-DD format!\")\n",
    "        \n",
    "    # Category of expense\n",
    "    expense_category = input(\"Enter the category of expense eg., Food, Travel, etc. :\")\n",
    "    \n",
    "    # Amount spent\n",
    "    while True:\n",
    "        try:\n",
    "            amount_spent = round(float(input(\" Enter the amount spent: \")),2)\n",
    "            break\n",
    "        except:\n",
    "            print(\"Enter a valid amount!\")\n",
    "\n",
    "    # Brief description of expense\n",
    "    description = input(\" Enter the brief description: \")\n",
    "\n",
    "    expenditure = dict(\n",
    "        Date        = date_obj.date(),\n",
    "        Category    = expense_category,\n",
    "        Amount      = amount_spent,\n",
    "        Description = description\n",
    "    )\n",
    "    expense.append(expenditure)"
   ]
  },
  {
   "cell_type": "markdown",
   "id": "e39e8b53-9243-42a7-a447-d7fc6785ea93",
   "metadata": {},
   "source": [
    "## 2. Function to view expenses\n",
    "- Retrieve and display all stored expenses\n",
    "- It loops through the list of expenses and displays the\n",
    "  date, category, amount, and description for each entry\n",
    "- Validates the data before displaying it\n",
    "- If any required details (date, category, amount, or description) are\n",
    "  missing, skip the entry or notify the user that it’s incomplete"
   ]
  },
  {
   "cell_type": "code",
   "execution_count": null,
   "id": "4c0f0ddf-19d5-4e3a-aeb2-8a14e75f2438",
   "metadata": {},
   "outputs": [],
   "source": [
    "def view_expense(expense):    \n",
    "    # Viewing expense\n",
    "    print(\"Viewing expense\")\n",
    "    if not expense:\n",
    "        print('Expenditure is empty! Please add expense!')\n",
    "    else:\n",
    "        for i in expense:\n",
    "            # Check if the key exists\n",
    "            if all(key in i for key in ['Date', 'Category', 'Amount', 'Description']):\n",
    "                print(f\"Date: {i['Date']}, \\t Category: {i['Category']}, \\t Amount: {i['Amount']}, \\t Description: {i['Description']}\")\n",
    "            else:\n",
    "                print(f'Invalid expense record: {i}') "
   ]
  },
  {
   "cell_type": "markdown",
   "id": "ced1d4c0-b422-4a72-a368-f10b8b4c62f9",
   "metadata": {},
   "source": [
    "## 3. Function to track budget\n",
    "It allows the user to input a monthly budget. Prompt the user to:\n",
    "- Enter the total amount they want to budget for the month\n",
    "- Create another function that calculates the total expenses recorded so far\n",
    "- Compare the total with the user’s monthly budget\n",
    "- If the total expenses exceed the budget, display a warning\n",
    "- If the expenses are within the budget, display the remaining balance"
   ]
  },
  {
   "cell_type": "code",
   "execution_count": null,
   "id": "cd2ce4e7-84ca-4812-b2b0-3c39563647b7",
   "metadata": {},
   "outputs": [],
   "source": [
    "def set_budget():\n",
    "    \"\"\"\n",
    "    Function to set the monthly budget\n",
    "    \"\"\"\n",
    "    monthly_budget = (input('Enter your monthly budget: '))\n",
    "    while True:\n",
    "        try:\n",
    "            monthly_budget = float(monthly_budget)\n",
    "            break\n",
    "        except ValueError:\n",
    "            print('Please enter a valid amount!')\n",
    "    return monthly_budget"
   ]
  },
  {
   "cell_type": "code",
   "execution_count": null,
   "id": "7f657ddf-cf8e-4959-a75e-f8e0b74e7ee8",
   "metadata": {},
   "outputs": [],
   "source": [
    "def track_budget(expense, monthly_budget):\n",
    "    \"\"\"\n",
    "    Function to tract expenses\n",
    "    \"\"\"\n",
    "    print(\"Tracking monthly budget\")\n",
    "    total_expenses =  sum(i['Amount'] for i in expense)\n",
    "    print(f'Total expenses: {total_expenses}')\n",
    "    if total_expenses > monthly_budget:\n",
    "        print('You have exceeded your monthly budget!')\n",
    "    else:\n",
    "        print(f'You are within your monthly budget! Congratulations you have saved Rs. {monthly_budget - total_expenses}')"
   ]
  },
  {
   "cell_type": "markdown",
   "id": "3d6d767d-ceec-4f32-8850-2f5045fbe9ae",
   "metadata": {},
   "source": [
    "## 4. Function to save and load expenses\n",
    "It saves all expenses to a CSV file, with each row containing the date, category, amount, and description of each expense.\n",
    "\n",
    "A another function to load expenses from the CSV file. \n",
    "When the program starts, it should\n",
    "1. Read the saved data from file\n",
    "2. Load the data into a list of expense"
   ]
  },
  {
   "cell_type": "code",
   "execution_count": null,
   "id": "56742db5-ea38-41a6-890f-51b040b17e3f",
   "metadata": {},
   "outputs": [],
   "source": [
    "def save_expenses(expense,filename='expenses.csv'):\n",
    "    \"\"\"\n",
    "    Function to save expenses into a csv file\n",
    "    \"\"\"\n",
    "    print(\"Saving expense\")\n",
    "    with open(filename, 'w', newline = '') as file:\n",
    "        writer = csv.writer(file)\n",
    "        writer.writerow(list(expense[0].keys()))\n",
    "        for i in expense:\n",
    "            writer.writerow(list(i.values()))\n",
    "    print('Expenses saved sussessfully')    "
   ]
  },
  {
   "cell_type": "code",
   "execution_count": null,
   "id": "f43c601b-f9cc-467a-b40c-9a1d5f2e1eec",
   "metadata": {},
   "outputs": [],
   "source": [
    "def load_expenses(filename = 'expenses.csv'):\n",
    "    \"\"\"\n",
    "    Function to load expenses from a csv file\n",
    "    \"\"\"\n",
    "    print(f'Loading expenses from the file: {filename}')\n",
    "    expense = []\n",
    "    try:\n",
    "        with open(filename,'r') as file:\n",
    "            reader = csv.DictReader(file)\n",
    "            for i in reader:\n",
    "                if all(key in i for key in ['Date', 'Category', 'Amount', 'Description']): \n",
    "                    i['Amount'] = float(i['Amount'])\n",
    "                    expenditure = dict(\n",
    "                                    Date        = i['Date'],\n",
    "                                    Category    = i['Category'],\n",
    "                                    Amount      = i['Amount'],\n",
    "                                    Description = i['Description']\n",
    "                                ) \n",
    "                    expense.append(expenditure)\n",
    "                else:\n",
    "                    print(f'Skipping invalid expense record : {i}')\n",
    "    except FileNotFoundError:\n",
    "        print('No existing expense file! Start entering the expenses.')\n",
    "    return expense"
   ]
  },
  {
   "cell_type": "markdown",
   "id": "77f66a4a-fe32-4513-840a-fca545b08fe3",
   "metadata": {},
   "source": [
    "## Interactive menu\n",
    "Implement the following conditions:\n",
    "- If the user selects option 1, call the function to add an expense\n",
    "- If the user selects option 2, call the function to view expenses\n",
    "- If the user selects option 3, call the function to track the budget\n",
    "- If the user selects option 4, call the function to save expenses to the file\n",
    "- If the user selects option 5, save the expenses and exit the program"
   ]
  },
  {
   "cell_type": "code",
   "execution_count": null,
   "id": "169e1027-e810-477a-9ec1-d1c6dbb394f7",
   "metadata": {},
   "outputs": [],
   "source": [
    "def main():\n",
    "    expense = []\n",
    "    # Load expenses from the file\n",
    "    expense = load_expenses()\n",
    "    # Decide the monthly budget\n",
    "    monthly_budget = set_budget()\n",
    "    # Interactive menu until the user exits. \n",
    "    while True:\n",
    "        task = add_choice()\n",
    "        if task ==1:\n",
    "            add_expense(expense)\n",
    "        elif task==2:\n",
    "            view_expense(expense)\n",
    "        elif task==3:\n",
    "            track_budget(expense, monthly_budget)\n",
    "        elif task==4:\n",
    "            save_expenses(expense)\n",
    "        elif task==5:\n",
    "            save_expenses(expense)\n",
    "            print('Exiting...')\n",
    "            break\n",
    "        else:\n",
    "            print('Enter the valid task to perform!')\n",
    "\n",
    "# Run the main function\n",
    "main()"
   ]
  },
  {
   "cell_type": "code",
   "execution_count": null,
   "id": "f901e055-52e3-40b6-aaaf-837b1d6e978b",
   "metadata": {},
   "outputs": [],
   "source": []
  }
 ],
 "metadata": {
  "kernelspec": {
   "display_name": "Python 3 (ipykernel)",
   "language": "python",
   "name": "python3"
  },
  "language_info": {
   "codemirror_mode": {
    "name": "ipython",
    "version": 3
   },
   "file_extension": ".py",
   "mimetype": "text/x-python",
   "name": "python",
   "nbconvert_exporter": "python",
   "pygments_lexer": "ipython3",
   "version": "3.12.4"
  }
 },
 "nbformat": 4,
 "nbformat_minor": 5
}
